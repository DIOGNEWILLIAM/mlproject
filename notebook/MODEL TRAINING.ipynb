{
 "cells": [
  {
   "cell_type": "code",
   "execution_count": null,
   "id": "ebd7e8c3",
   "metadata": {},
   "outputs": [],
   "source": [
    "import numpy as np\n",
    "import pandas as pd\n",
    "import matplotlib.pyplot as plt\n",
    "import seaborn as sns\n",
    "\n",
    "from sklearn.metrics import r2_score, mean_absolute_error, mean_squared_error\n",
    "from sklearn.neighbors import KNeighborsRegressor\n",
    "from sklearn.tree import DecisionTreeRegressor\n",
    "from sklearn.ensemble import RandomForestRegressor, AdaBoostRegressor\n",
    "from sklearn.svm import SVR\n",
    "from sklearn.linear_model import LinearRegression, Ridge, Lasso\n",
    "from sklearn.model_selection import RandomizedSearchCV\n",
    "\n",
    "from xgboost import XGBRegressor\n",
    "\n",
    "\n",
    "import warnings\n",
    "warnings.filterwarnings(\"ignore\")  # ignore les warnings\n"
   ]
  },
  {
   "cell_type": "code",
   "execution_count": null,
   "id": "8014e2ef",
   "metadata": {},
   "outputs": [],
   "source": [
    "@dataclass\n",
    "class ModelTrainerconfig:\n",
    "    trained_model_file_path=os.path.join(\"artifacts\",\"model.pkl\")\n",
    "class ModelTrainer:\n",
    "    def __init__(self):\n",
    "        self.model_trainer_config=ModelTrainerconfig\n",
    "\n",
    "def initiate_model_trainer(self,train_array,preprocessor_path)\n",
    "    try: \n",
    "        logging.info(\"split trainning and test input data\") \n",
    "        xtrain,y_train,x_test,y_test=(\n",
    "            train_array[:,:-1],\n",
    "            train_array[:,-1],\n",
    "            test_array[:,:-1],\n",
    "            test_array[:,-1],\n",
    "\n",
    "        )\n",
    "    \n"
   ]
  },
  {
   "cell_type": "code",
   "execution_count": 43,
   "id": "888ee126",
   "metadata": {},
   "outputs": [
    {
     "name": "stdout",
     "output_type": "stream",
     "text": [
      "Requirement already satisfied: catboost in c:\\users\\hp\\desktop\\mlproject\\venv\\lib\\site-packages (1.2.8)\n",
      "Requirement already satisfied: graphviz in c:\\users\\hp\\desktop\\mlproject\\venv\\lib\\site-packages (from catboost) (0.20.3)\n",
      "Requirement already satisfied: matplotlib in c:\\users\\hp\\desktop\\mlproject\\venv\\lib\\site-packages (from catboost) (3.7.5)\n",
      "Requirement already satisfied: numpy<3.0,>=1.16.0 in c:\\users\\hp\\desktop\\mlproject\\venv\\lib\\site-packages (from catboost) (1.24.4)\n",
      "Requirement already satisfied: pandas>=0.24 in c:\\users\\hp\\desktop\\mlproject\\venv\\lib\\site-packages (from catboost) (2.0.3)\n",
      "Requirement already satisfied: scipy in c:\\users\\hp\\desktop\\mlproject\\venv\\lib\\site-packages (from catboost) (1.10.1)\n",
      "Requirement already satisfied: plotly in c:\\users\\hp\\desktop\\mlproject\\venv\\lib\\site-packages (from catboost) (6.3.0)\n",
      "Requirement already satisfied: six in c:\\users\\hp\\desktop\\mlproject\\venv\\lib\\site-packages (from catboost) (1.16.0)\n",
      "Requirement already satisfied: python-dateutil>=2.8.2 in c:\\users\\hp\\desktop\\mlproject\\venv\\lib\\site-packages (from pandas>=0.24->catboost) (2.9.0)\n",
      "Requirement already satisfied: pytz>=2020.1 in c:\\users\\hp\\desktop\\mlproject\\venv\\lib\\site-packages (from pandas>=0.24->catboost) (2025.2)\n",
      "Requirement already satisfied: tzdata>=2022.1 in c:\\users\\hp\\desktop\\mlproject\\venv\\lib\\site-packages (from pandas>=0.24->catboost) (2025.2)\n",
      "Requirement already satisfied: contourpy>=1.0.1 in c:\\users\\hp\\desktop\\mlproject\\venv\\lib\\site-packages (from matplotlib->catboost) (1.1.1)\n",
      "Requirement already satisfied: cycler>=0.10 in c:\\users\\hp\\desktop\\mlproject\\venv\\lib\\site-packages (from matplotlib->catboost) (0.12.1)\n",
      "Requirement already satisfied: fonttools>=4.22.0 in c:\\users\\hp\\desktop\\mlproject\\venv\\lib\\site-packages (from matplotlib->catboost) (4.57.0)\n",
      "Requirement already satisfied: kiwisolver>=1.0.1 in c:\\users\\hp\\desktop\\mlproject\\venv\\lib\\site-packages (from matplotlib->catboost) (1.4.7)\n",
      "Requirement already satisfied: packaging>=20.0 in c:\\users\\hp\\desktop\\mlproject\\venv\\lib\\site-packages (from matplotlib->catboost) (25.0)\n",
      "Requirement already satisfied: pillow>=6.2.0 in c:\\users\\hp\\desktop\\mlproject\\venv\\lib\\site-packages (from matplotlib->catboost) (10.4.0)\n",
      "Requirement already satisfied: pyparsing>=2.3.1 in c:\\users\\hp\\desktop\\mlproject\\venv\\lib\\site-packages (from matplotlib->catboost) (3.1.4)\n",
      "Requirement already satisfied: importlib-resources>=3.2.0 in c:\\users\\hp\\desktop\\mlproject\\venv\\lib\\site-packages (from matplotlib->catboost) (6.4.5)\n",
      "Requirement already satisfied: narwhals>=1.15.1 in c:\\users\\hp\\desktop\\mlproject\\venv\\lib\\site-packages (from plotly->catboost) (1.42.1)\n",
      "Requirement already satisfied: zipp>=3.1.0 in c:\\users\\hp\\desktop\\mlproject\\venv\\lib\\site-packages (from importlib-resources>=3.2.0->matplotlib->catboost) (3.21.0)\n",
      "Note: you may need to restart the kernel to use updated packages.\n"
     ]
    }
   ],
   "source": [
    "pip install catboost\n"
   ]
  },
  {
   "cell_type": "code",
   "execution_count": 44,
   "id": "6c4487a0",
   "metadata": {},
   "outputs": [
    {
     "name": "stdout",
     "output_type": "stream",
     "text": [
      "Requirement already satisfied: xgboost in c:\\users\\hp\\desktop\\mlproject\\venv\\lib\\site-packages (2.1.4)\n",
      "Requirement already satisfied: numpy in c:\\users\\hp\\desktop\\mlproject\\venv\\lib\\site-packages (from xgboost) (1.24.4)\n",
      "Requirement already satisfied: scipy in c:\\users\\hp\\desktop\\mlproject\\venv\\lib\\site-packages (from xgboost) (1.10.1)\n",
      "Note: you may need to restart the kernel to use updated packages.\n"
     ]
    }
   ],
   "source": [
    "pip install xgboost\n"
   ]
  },
  {
   "cell_type": "code",
   "execution_count": 45,
   "id": "f491a814",
   "metadata": {},
   "outputs": [
    {
     "name": "stdout",
     "output_type": "stream",
     "text": [
      "Requirement already satisfied: catboost in c:\\users\\hp\\desktop\\mlproject\\venv\\lib\\site-packages (1.2.8)\n",
      "Requirement already satisfied: graphviz in c:\\users\\hp\\desktop\\mlproject\\venv\\lib\\site-packages (from catboost) (0.20.3)\n",
      "Requirement already satisfied: matplotlib in c:\\users\\hp\\desktop\\mlproject\\venv\\lib\\site-packages (from catboost) (3.7.5)\n",
      "Requirement already satisfied: numpy<3.0,>=1.16.0 in c:\\users\\hp\\desktop\\mlproject\\venv\\lib\\site-packages (from catboost) (1.24.4)\n",
      "Requirement already satisfied: pandas>=0.24 in c:\\users\\hp\\desktop\\mlproject\\venv\\lib\\site-packages (from catboost) (2.0.3)\n",
      "Requirement already satisfied: scipy in c:\\users\\hp\\desktop\\mlproject\\venv\\lib\\site-packages (from catboost) (1.10.1)\n",
      "Requirement already satisfied: plotly in c:\\users\\hp\\desktop\\mlproject\\venv\\lib\\site-packages (from catboost) (6.3.0)\n",
      "Requirement already satisfied: six in c:\\users\\hp\\desktop\\mlproject\\venv\\lib\\site-packages (from catboost) (1.16.0)\n",
      "Requirement already satisfied: python-dateutil>=2.8.2 in c:\\users\\hp\\desktop\\mlproject\\venv\\lib\\site-packages (from pandas>=0.24->catboost) (2.9.0)\n",
      "Requirement already satisfied: pytz>=2020.1 in c:\\users\\hp\\desktop\\mlproject\\venv\\lib\\site-packages (from pandas>=0.24->catboost) (2025.2)\n",
      "Requirement already satisfied: tzdata>=2022.1 in c:\\users\\hp\\desktop\\mlproject\\venv\\lib\\site-packages (from pandas>=0.24->catboost) (2025.2)\n",
      "Requirement already satisfied: contourpy>=1.0.1 in c:\\users\\hp\\desktop\\mlproject\\venv\\lib\\site-packages (from matplotlib->catboost) (1.1.1)\n",
      "Requirement already satisfied: cycler>=0.10 in c:\\users\\hp\\desktop\\mlproject\\venv\\lib\\site-packages (from matplotlib->catboost) (0.12.1)\n",
      "Requirement already satisfied: fonttools>=4.22.0 in c:\\users\\hp\\desktop\\mlproject\\venv\\lib\\site-packages (from matplotlib->catboost) (4.57.0)\n",
      "Requirement already satisfied: kiwisolver>=1.0.1 in c:\\users\\hp\\desktop\\mlproject\\venv\\lib\\site-packages (from matplotlib->catboost) (1.4.7)\n",
      "Requirement already satisfied: packaging>=20.0 in c:\\users\\hp\\desktop\\mlproject\\venv\\lib\\site-packages (from matplotlib->catboost) (25.0)\n",
      "Requirement already satisfied: pillow>=6.2.0 in c:\\users\\hp\\desktop\\mlproject\\venv\\lib\\site-packages (from matplotlib->catboost) (10.4.0)\n",
      "Requirement already satisfied: pyparsing>=2.3.1 in c:\\users\\hp\\desktop\\mlproject\\venv\\lib\\site-packages (from matplotlib->catboost) (3.1.4)\n",
      "Requirement already satisfied: importlib-resources>=3.2.0 in c:\\users\\hp\\desktop\\mlproject\\venv\\lib\\site-packages (from matplotlib->catboost) (6.4.5)\n",
      "Requirement already satisfied: narwhals>=1.15.1 in c:\\users\\hp\\desktop\\mlproject\\venv\\lib\\site-packages (from plotly->catboost) (1.42.1)\n",
      "Requirement already satisfied: zipp>=3.1.0 in c:\\users\\hp\\desktop\\mlproject\\venv\\lib\\site-packages (from importlib-resources>=3.2.0->matplotlib->catboost) (3.21.0)\n",
      "Note: you may need to restart the kernel to use updated packages.\n"
     ]
    }
   ],
   "source": [
    "pip install catboost\n"
   ]
  },
  {
   "cell_type": "code",
   "execution_count": 46,
   "id": "beaa18fb",
   "metadata": {},
   "outputs": [
    {
     "name": "stdout",
     "output_type": "stream",
     "text": [
      "Requirement already satisfied: scikit-learn in c:\\users\\hp\\desktop\\mlproject\\venv\\lib\\site-packages (1.3.2)\n",
      "Requirement already satisfied: numpy<2.0,>=1.17.3 in c:\\users\\hp\\desktop\\mlproject\\venv\\lib\\site-packages (from scikit-learn) (1.24.4)\n",
      "Requirement already satisfied: scipy>=1.5.0 in c:\\users\\hp\\desktop\\mlproject\\venv\\lib\\site-packages (from scikit-learn) (1.10.1)\n",
      "Requirement already satisfied: joblib>=1.1.1 in c:\\users\\hp\\desktop\\mlproject\\venv\\lib\\site-packages (from scikit-learn) (1.4.2)\n",
      "Requirement already satisfied: threadpoolctl>=2.0.0 in c:\\users\\hp\\desktop\\mlproject\\venv\\lib\\site-packages (from scikit-learn) (3.5.0)\n",
      "Note: you may need to restart the kernel to use updated packages.\n"
     ]
    }
   ],
   "source": [
    "pip install scikit-learn\n"
   ]
  },
  {
   "cell_type": "code",
   "execution_count": 47,
   "id": "3823572b",
   "metadata": {},
   "outputs": [
    {
     "name": "stdout",
     "output_type": "stream",
     "text": [
      "Requirement already satisfied: xgboost in c:\\users\\hp\\desktop\\mlproject\\venv\\lib\\site-packages (2.1.4)\n",
      "Requirement already satisfied: numpy in c:\\users\\hp\\desktop\\mlproject\\venv\\lib\\site-packages (from xgboost) (1.24.4)\n",
      "Requirement already satisfied: scipy in c:\\users\\hp\\desktop\\mlproject\\venv\\lib\\site-packages (from xgboost) (1.10.1)\n",
      "Note: you may need to restart the kernel to use updated packages.\n"
     ]
    }
   ],
   "source": [
    "pip install xgboost\n"
   ]
  },
  {
   "cell_type": "code",
   "execution_count": 48,
   "id": "0967c3a4",
   "metadata": {},
   "outputs": [
    {
     "name": "stdout",
     "output_type": "stream",
     "text": [
      "Requirement already satisfied: catboost in c:\\users\\hp\\desktop\\mlproject\\venv\\lib\\site-packages (1.2.8)\n",
      "Requirement already satisfied: graphviz in c:\\users\\hp\\desktop\\mlproject\\venv\\lib\\site-packages (from catboost) (0.20.3)\n",
      "Requirement already satisfied: matplotlib in c:\\users\\hp\\desktop\\mlproject\\venv\\lib\\site-packages (from catboost) (3.7.5)\n",
      "Requirement already satisfied: numpy<3.0,>=1.16.0 in c:\\users\\hp\\desktop\\mlproject\\venv\\lib\\site-packages (from catboost) (1.24.4)\n",
      "Requirement already satisfied: pandas>=0.24 in c:\\users\\hp\\desktop\\mlproject\\venv\\lib\\site-packages (from catboost) (2.0.3)\n",
      "Requirement already satisfied: scipy in c:\\users\\hp\\desktop\\mlproject\\venv\\lib\\site-packages (from catboost) (1.10.1)\n",
      "Requirement already satisfied: plotly in c:\\users\\hp\\desktop\\mlproject\\venv\\lib\\site-packages (from catboost) (6.3.0)\n",
      "Requirement already satisfied: six in c:\\users\\hp\\desktop\\mlproject\\venv\\lib\\site-packages (from catboost) (1.16.0)\n",
      "Requirement already satisfied: python-dateutil>=2.8.2 in c:\\users\\hp\\desktop\\mlproject\\venv\\lib\\site-packages (from pandas>=0.24->catboost) (2.9.0)\n",
      "Requirement already satisfied: pytz>=2020.1 in c:\\users\\hp\\desktop\\mlproject\\venv\\lib\\site-packages (from pandas>=0.24->catboost) (2025.2)\n",
      "Requirement already satisfied: tzdata>=2022.1 in c:\\users\\hp\\desktop\\mlproject\\venv\\lib\\site-packages (from pandas>=0.24->catboost) (2025.2)\n",
      "Requirement already satisfied: contourpy>=1.0.1 in c:\\users\\hp\\desktop\\mlproject\\venv\\lib\\site-packages (from matplotlib->catboost) (1.1.1)\n",
      "Requirement already satisfied: cycler>=0.10 in c:\\users\\hp\\desktop\\mlproject\\venv\\lib\\site-packages (from matplotlib->catboost) (0.12.1)\n",
      "Requirement already satisfied: fonttools>=4.22.0 in c:\\users\\hp\\desktop\\mlproject\\venv\\lib\\site-packages (from matplotlib->catboost) (4.57.0)\n",
      "Requirement already satisfied: kiwisolver>=1.0.1 in c:\\users\\hp\\desktop\\mlproject\\venv\\lib\\site-packages (from matplotlib->catboost) (1.4.7)\n",
      "Requirement already satisfied: packaging>=20.0 in c:\\users\\hp\\desktop\\mlproject\\venv\\lib\\site-packages (from matplotlib->catboost) (25.0)\n",
      "Requirement already satisfied: pillow>=6.2.0 in c:\\users\\hp\\desktop\\mlproject\\venv\\lib\\site-packages (from matplotlib->catboost) (10.4.0)\n",
      "Requirement already satisfied: pyparsing>=2.3.1 in c:\\users\\hp\\desktop\\mlproject\\venv\\lib\\site-packages (from matplotlib->catboost) (3.1.4)\n",
      "Requirement already satisfied: importlib-resources>=3.2.0 in c:\\users\\hp\\desktop\\mlproject\\venv\\lib\\site-packages (from matplotlib->catboost) (6.4.5)\n",
      "Requirement already satisfied: narwhals>=1.15.1 in c:\\users\\hp\\desktop\\mlproject\\venv\\lib\\site-packages (from plotly->catboost) (1.42.1)\n",
      "Requirement already satisfied: zipp>=3.1.0 in c:\\users\\hp\\desktop\\mlproject\\venv\\lib\\site-packages (from importlib-resources>=3.2.0->matplotlib->catboost) (3.21.0)\n",
      "Note: you may need to restart the kernel to use updated packages.\n"
     ]
    }
   ],
   "source": [
    "pip install catboost\n"
   ]
  },
  {
   "cell_type": "code",
   "execution_count": 49,
   "id": "1859e82a",
   "metadata": {},
   "outputs": [
    {
     "name": "stdout",
     "output_type": "stream",
     "text": [
      "Requirement already satisfied: numpy in c:\\users\\hp\\desktop\\mlproject\\venv\\lib\\site-packages (1.24.4)\n",
      "Requirement already satisfied: pandas in c:\\users\\hp\\desktop\\mlproject\\venv\\lib\\site-packages (2.0.3)\n",
      "Requirement already satisfied: matplotlib in c:\\users\\hp\\desktop\\mlproject\\venv\\lib\\site-packages (3.7.5)\n",
      "Requirement already satisfied: seaborn in c:\\users\\hp\\desktop\\mlproject\\venv\\lib\\site-packages (0.13.2)\n",
      "Requirement already satisfied: scikit-learn in c:\\users\\hp\\desktop\\mlproject\\venv\\lib\\site-packages (1.3.2)\n",
      "Requirement already satisfied: catboost in c:\\users\\hp\\desktop\\mlproject\\venv\\lib\\site-packages (1.2.8)\n",
      "Requirement already satisfied: xgboost in c:\\users\\hp\\desktop\\mlproject\\venv\\lib\\site-packages (2.1.4)\n",
      "Requirement already satisfied: python-dateutil>=2.8.2 in c:\\users\\hp\\desktop\\mlproject\\venv\\lib\\site-packages (from pandas) (2.9.0)\n",
      "Requirement already satisfied: pytz>=2020.1 in c:\\users\\hp\\desktop\\mlproject\\venv\\lib\\site-packages (from pandas) (2025.2)\n",
      "Requirement already satisfied: tzdata>=2022.1 in c:\\users\\hp\\desktop\\mlproject\\venv\\lib\\site-packages (from pandas) (2025.2)\n",
      "Requirement already satisfied: contourpy>=1.0.1 in c:\\users\\hp\\desktop\\mlproject\\venv\\lib\\site-packages (from matplotlib) (1.1.1)\n",
      "Requirement already satisfied: cycler>=0.10 in c:\\users\\hp\\desktop\\mlproject\\venv\\lib\\site-packages (from matplotlib) (0.12.1)\n",
      "Requirement already satisfied: fonttools>=4.22.0 in c:\\users\\hp\\desktop\\mlproject\\venv\\lib\\site-packages (from matplotlib) (4.57.0)\n",
      "Requirement already satisfied: kiwisolver>=1.0.1 in c:\\users\\hp\\desktop\\mlproject\\venv\\lib\\site-packages (from matplotlib) (1.4.7)\n",
      "Requirement already satisfied: packaging>=20.0 in c:\\users\\hp\\desktop\\mlproject\\venv\\lib\\site-packages (from matplotlib) (25.0)\n",
      "Requirement already satisfied: pillow>=6.2.0 in c:\\users\\hp\\desktop\\mlproject\\venv\\lib\\site-packages (from matplotlib) (10.4.0)\n",
      "Requirement already satisfied: pyparsing>=2.3.1 in c:\\users\\hp\\desktop\\mlproject\\venv\\lib\\site-packages (from matplotlib) (3.1.4)\n",
      "Requirement already satisfied: importlib-resources>=3.2.0 in c:\\users\\hp\\desktop\\mlproject\\venv\\lib\\site-packages (from matplotlib) (6.4.5)\n",
      "Requirement already satisfied: scipy>=1.5.0 in c:\\users\\hp\\desktop\\mlproject\\venv\\lib\\site-packages (from scikit-learn) (1.10.1)\n",
      "Requirement already satisfied: joblib>=1.1.1 in c:\\users\\hp\\desktop\\mlproject\\venv\\lib\\site-packages (from scikit-learn) (1.4.2)\n",
      "Requirement already satisfied: threadpoolctl>=2.0.0 in c:\\users\\hp\\desktop\\mlproject\\venv\\lib\\site-packages (from scikit-learn) (3.5.0)\n",
      "Requirement already satisfied: graphviz in c:\\users\\hp\\desktop\\mlproject\\venv\\lib\\site-packages (from catboost) (0.20.3)\n",
      "Requirement already satisfied: plotly in c:\\users\\hp\\desktop\\mlproject\\venv\\lib\\site-packages (from catboost) (6.3.0)\n",
      "Requirement already satisfied: six in c:\\users\\hp\\desktop\\mlproject\\venv\\lib\\site-packages (from catboost) (1.16.0)\n",
      "Requirement already satisfied: zipp>=3.1.0 in c:\\users\\hp\\desktop\\mlproject\\venv\\lib\\site-packages (from importlib-resources>=3.2.0->matplotlib) (3.21.0)\n",
      "Requirement already satisfied: narwhals>=1.15.1 in c:\\users\\hp\\desktop\\mlproject\\venv\\lib\\site-packages (from plotly->catboost) (1.42.1)\n",
      "Note: you may need to restart the kernel to use updated packages.\n"
     ]
    }
   ],
   "source": [
    "pip install numpy pandas matplotlib seaborn scikit-learn catboost xgboost\n"
   ]
  },
  {
   "cell_type": "code",
   "execution_count": 50,
   "id": "820c39eb",
   "metadata": {},
   "outputs": [],
   "source": [
    "df = pd.read_csv('StudentsPerformance.csv')"
   ]
  },
  {
   "cell_type": "code",
   "execution_count": 51,
   "id": "79497282",
   "metadata": {},
   "outputs": [
    {
     "data": {
      "text/plain": [
       "<bound method NDFrame.head of      gender race/ethnicity parental level of education         lunch  \\\n",
       "0    female        group B           bachelor's degree      standard   \n",
       "1    female        group C                some college      standard   \n",
       "2    female        group B             master's degree      standard   \n",
       "3      male        group A          associate's degree  free/reduced   \n",
       "4      male        group C                some college      standard   \n",
       "..      ...            ...                         ...           ...   \n",
       "995  female        group E             master's degree      standard   \n",
       "996    male        group C                 high school  free/reduced   \n",
       "997  female        group C                 high school  free/reduced   \n",
       "998  female        group D                some college      standard   \n",
       "999  female        group D                some college  free/reduced   \n",
       "\n",
       "    test preparation course  math score  reading score  writing score  \n",
       "0                      none          72             72             74  \n",
       "1                 completed          69             90             88  \n",
       "2                      none          90             95             93  \n",
       "3                      none          47             57             44  \n",
       "4                      none          76             78             75  \n",
       "..                      ...         ...            ...            ...  \n",
       "995               completed          88             99             95  \n",
       "996                    none          62             55             55  \n",
       "997               completed          59             71             65  \n",
       "998               completed          68             78             77  \n",
       "999                    none          77             86             86  \n",
       "\n",
       "[1000 rows x 8 columns]>"
      ]
     },
     "execution_count": 51,
     "metadata": {},
     "output_type": "execute_result"
    }
   ],
   "source": [
    "df.head"
   ]
  },
  {
   "cell_type": "code",
   "execution_count": 52,
   "id": "761b4d13",
   "metadata": {},
   "outputs": [
    {
     "ename": "KeyError",
     "evalue": "\"['math  score'] not found in axis\"",
     "output_type": "error",
     "traceback": [
      "\u001b[1;31m---------------------------------------------------------------------------\u001b[0m",
      "\u001b[1;31mKeyError\u001b[0m                                  Traceback (most recent call last)",
      "Cell \u001b[1;32mIn[52], line 1\u001b[0m\n\u001b[1;32m----> 1\u001b[0m x \u001b[38;5;241m=\u001b[39m \u001b[43mdf\u001b[49m\u001b[38;5;241;43m.\u001b[39;49m\u001b[43mdrop\u001b[49m\u001b[43m(\u001b[49m\u001b[43mcolumns\u001b[49m\u001b[38;5;241;43m=\u001b[39;49m\u001b[43m[\u001b[49m\u001b[38;5;124;43m'\u001b[39;49m\u001b[38;5;124;43mmath  score\u001b[39;49m\u001b[38;5;124;43m'\u001b[39;49m\u001b[43m]\u001b[49m\u001b[43m,\u001b[49m\u001b[43maxis\u001b[49m\u001b[38;5;241;43m=\u001b[39;49m\u001b[38;5;241;43m1\u001b[39;49m\u001b[43m)\u001b[49m\n",
      "File \u001b[1;32mc:\\Users\\HP\\Desktop\\mlproject\\venv\\lib\\site-packages\\pandas\\core\\frame.py:5258\u001b[0m, in \u001b[0;36mDataFrame.drop\u001b[1;34m(self, labels, axis, index, columns, level, inplace, errors)\u001b[0m\n\u001b[0;32m   5110\u001b[0m \u001b[38;5;28;01mdef\u001b[39;00m \u001b[38;5;21mdrop\u001b[39m(\n\u001b[0;32m   5111\u001b[0m     \u001b[38;5;28mself\u001b[39m,\n\u001b[0;32m   5112\u001b[0m     labels: IndexLabel \u001b[38;5;241m=\u001b[39m \u001b[38;5;28;01mNone\u001b[39;00m,\n\u001b[1;32m   (...)\u001b[0m\n\u001b[0;32m   5119\u001b[0m     errors: IgnoreRaise \u001b[38;5;241m=\u001b[39m \u001b[38;5;124m\"\u001b[39m\u001b[38;5;124mraise\u001b[39m\u001b[38;5;124m\"\u001b[39m,\n\u001b[0;32m   5120\u001b[0m ) \u001b[38;5;241m-\u001b[39m\u001b[38;5;241m>\u001b[39m DataFrame \u001b[38;5;241m|\u001b[39m \u001b[38;5;28;01mNone\u001b[39;00m:\n\u001b[0;32m   5121\u001b[0m \u001b[38;5;250m    \u001b[39m\u001b[38;5;124;03m\"\"\"\u001b[39;00m\n\u001b[0;32m   5122\u001b[0m \u001b[38;5;124;03m    Drop specified labels from rows or columns.\u001b[39;00m\n\u001b[0;32m   5123\u001b[0m \n\u001b[1;32m   (...)\u001b[0m\n\u001b[0;32m   5256\u001b[0m \u001b[38;5;124;03m            weight  1.0     0.8\u001b[39;00m\n\u001b[0;32m   5257\u001b[0m \u001b[38;5;124;03m    \"\"\"\u001b[39;00m\n\u001b[1;32m-> 5258\u001b[0m     \u001b[38;5;28;01mreturn\u001b[39;00m \u001b[38;5;28;43msuper\u001b[39;49m\u001b[43m(\u001b[49m\u001b[43m)\u001b[49m\u001b[38;5;241;43m.\u001b[39;49m\u001b[43mdrop\u001b[49m\u001b[43m(\u001b[49m\n\u001b[0;32m   5259\u001b[0m \u001b[43m        \u001b[49m\u001b[43mlabels\u001b[49m\u001b[38;5;241;43m=\u001b[39;49m\u001b[43mlabels\u001b[49m\u001b[43m,\u001b[49m\n\u001b[0;32m   5260\u001b[0m \u001b[43m        \u001b[49m\u001b[43maxis\u001b[49m\u001b[38;5;241;43m=\u001b[39;49m\u001b[43maxis\u001b[49m\u001b[43m,\u001b[49m\n\u001b[0;32m   5261\u001b[0m \u001b[43m        \u001b[49m\u001b[43mindex\u001b[49m\u001b[38;5;241;43m=\u001b[39;49m\u001b[43mindex\u001b[49m\u001b[43m,\u001b[49m\n\u001b[0;32m   5262\u001b[0m \u001b[43m        \u001b[49m\u001b[43mcolumns\u001b[49m\u001b[38;5;241;43m=\u001b[39;49m\u001b[43mcolumns\u001b[49m\u001b[43m,\u001b[49m\n\u001b[0;32m   5263\u001b[0m \u001b[43m        \u001b[49m\u001b[43mlevel\u001b[49m\u001b[38;5;241;43m=\u001b[39;49m\u001b[43mlevel\u001b[49m\u001b[43m,\u001b[49m\n\u001b[0;32m   5264\u001b[0m \u001b[43m        \u001b[49m\u001b[43minplace\u001b[49m\u001b[38;5;241;43m=\u001b[39;49m\u001b[43minplace\u001b[49m\u001b[43m,\u001b[49m\n\u001b[0;32m   5265\u001b[0m \u001b[43m        \u001b[49m\u001b[43merrors\u001b[49m\u001b[38;5;241;43m=\u001b[39;49m\u001b[43merrors\u001b[49m\u001b[43m,\u001b[49m\n\u001b[0;32m   5266\u001b[0m \u001b[43m    \u001b[49m\u001b[43m)\u001b[49m\n",
      "File \u001b[1;32mc:\\Users\\HP\\Desktop\\mlproject\\venv\\lib\\site-packages\\pandas\\core\\generic.py:4549\u001b[0m, in \u001b[0;36mNDFrame.drop\u001b[1;34m(self, labels, axis, index, columns, level, inplace, errors)\u001b[0m\n\u001b[0;32m   4547\u001b[0m \u001b[38;5;28;01mfor\u001b[39;00m axis, labels \u001b[38;5;129;01min\u001b[39;00m axes\u001b[38;5;241m.\u001b[39mitems():\n\u001b[0;32m   4548\u001b[0m     \u001b[38;5;28;01mif\u001b[39;00m labels \u001b[38;5;129;01mis\u001b[39;00m \u001b[38;5;129;01mnot\u001b[39;00m \u001b[38;5;28;01mNone\u001b[39;00m:\n\u001b[1;32m-> 4549\u001b[0m         obj \u001b[38;5;241m=\u001b[39m \u001b[43mobj\u001b[49m\u001b[38;5;241;43m.\u001b[39;49m\u001b[43m_drop_axis\u001b[49m\u001b[43m(\u001b[49m\u001b[43mlabels\u001b[49m\u001b[43m,\u001b[49m\u001b[43m \u001b[49m\u001b[43maxis\u001b[49m\u001b[43m,\u001b[49m\u001b[43m \u001b[49m\u001b[43mlevel\u001b[49m\u001b[38;5;241;43m=\u001b[39;49m\u001b[43mlevel\u001b[49m\u001b[43m,\u001b[49m\u001b[43m \u001b[49m\u001b[43merrors\u001b[49m\u001b[38;5;241;43m=\u001b[39;49m\u001b[43merrors\u001b[49m\u001b[43m)\u001b[49m\n\u001b[0;32m   4551\u001b[0m \u001b[38;5;28;01mif\u001b[39;00m inplace:\n\u001b[0;32m   4552\u001b[0m     \u001b[38;5;28mself\u001b[39m\u001b[38;5;241m.\u001b[39m_update_inplace(obj)\n",
      "File \u001b[1;32mc:\\Users\\HP\\Desktop\\mlproject\\venv\\lib\\site-packages\\pandas\\core\\generic.py:4591\u001b[0m, in \u001b[0;36mNDFrame._drop_axis\u001b[1;34m(self, labels, axis, level, errors, only_slice)\u001b[0m\n\u001b[0;32m   4589\u001b[0m         new_axis \u001b[38;5;241m=\u001b[39m axis\u001b[38;5;241m.\u001b[39mdrop(labels, level\u001b[38;5;241m=\u001b[39mlevel, errors\u001b[38;5;241m=\u001b[39merrors)\n\u001b[0;32m   4590\u001b[0m     \u001b[38;5;28;01melse\u001b[39;00m:\n\u001b[1;32m-> 4591\u001b[0m         new_axis \u001b[38;5;241m=\u001b[39m \u001b[43maxis\u001b[49m\u001b[38;5;241;43m.\u001b[39;49m\u001b[43mdrop\u001b[49m\u001b[43m(\u001b[49m\u001b[43mlabels\u001b[49m\u001b[43m,\u001b[49m\u001b[43m \u001b[49m\u001b[43merrors\u001b[49m\u001b[38;5;241;43m=\u001b[39;49m\u001b[43merrors\u001b[49m\u001b[43m)\u001b[49m\n\u001b[0;32m   4592\u001b[0m     indexer \u001b[38;5;241m=\u001b[39m axis\u001b[38;5;241m.\u001b[39mget_indexer(new_axis)\n\u001b[0;32m   4594\u001b[0m \u001b[38;5;66;03m# Case for non-unique axis\u001b[39;00m\n\u001b[0;32m   4595\u001b[0m \u001b[38;5;28;01melse\u001b[39;00m:\n",
      "File \u001b[1;32mc:\\Users\\HP\\Desktop\\mlproject\\venv\\lib\\site-packages\\pandas\\core\\indexes\\base.py:6699\u001b[0m, in \u001b[0;36mIndex.drop\u001b[1;34m(self, labels, errors)\u001b[0m\n\u001b[0;32m   6697\u001b[0m \u001b[38;5;28;01mif\u001b[39;00m mask\u001b[38;5;241m.\u001b[39many():\n\u001b[0;32m   6698\u001b[0m     \u001b[38;5;28;01mif\u001b[39;00m errors \u001b[38;5;241m!=\u001b[39m \u001b[38;5;124m\"\u001b[39m\u001b[38;5;124mignore\u001b[39m\u001b[38;5;124m\"\u001b[39m:\n\u001b[1;32m-> 6699\u001b[0m         \u001b[38;5;28;01mraise\u001b[39;00m \u001b[38;5;167;01mKeyError\u001b[39;00m(\u001b[38;5;124mf\u001b[39m\u001b[38;5;124m\"\u001b[39m\u001b[38;5;132;01m{\u001b[39;00m\u001b[38;5;28mlist\u001b[39m(labels[mask])\u001b[38;5;132;01m}\u001b[39;00m\u001b[38;5;124m not found in axis\u001b[39m\u001b[38;5;124m\"\u001b[39m)\n\u001b[0;32m   6700\u001b[0m     indexer \u001b[38;5;241m=\u001b[39m indexer[\u001b[38;5;241m~\u001b[39mmask]\n\u001b[0;32m   6701\u001b[0m \u001b[38;5;28;01mreturn\u001b[39;00m \u001b[38;5;28mself\u001b[39m\u001b[38;5;241m.\u001b[39mdelete(indexer)\n",
      "\u001b[1;31mKeyError\u001b[0m: \"['math  score'] not found in axis\""
     ]
    }
   ],
   "source": [
    "x = df.drop(columns=['math  score'],axis=1)"
   ]
  },
  {
   "cell_type": "code",
   "execution_count": null,
   "id": "20107a55",
   "metadata": {},
   "outputs": [
    {
     "data": {
      "text/html": [
       "<div>\n",
       "<style scoped>\n",
       "    .dataframe tbody tr th:only-of-type {\n",
       "        vertical-align: middle;\n",
       "    }\n",
       "\n",
       "    .dataframe tbody tr th {\n",
       "        vertical-align: top;\n",
       "    }\n",
       "\n",
       "    .dataframe thead th {\n",
       "        text-align: right;\n",
       "    }\n",
       "</style>\n",
       "<table border=\"1\" class=\"dataframe\">\n",
       "  <thead>\n",
       "    <tr style=\"text-align: right;\">\n",
       "      <th></th>\n",
       "      <th>gender</th>\n",
       "      <th>race/ethnicity</th>\n",
       "      <th>parental level of education</th>\n",
       "      <th>lunch</th>\n",
       "      <th>test preparation course</th>\n",
       "      <th>math score</th>\n",
       "      <th>reading score</th>\n",
       "      <th>writing score</th>\n",
       "    </tr>\n",
       "  </thead>\n",
       "  <tbody>\n",
       "    <tr>\n",
       "      <th>0</th>\n",
       "      <td>female</td>\n",
       "      <td>group B</td>\n",
       "      <td>bachelor's degree</td>\n",
       "      <td>standard</td>\n",
       "      <td>none</td>\n",
       "      <td>72</td>\n",
       "      <td>72</td>\n",
       "      <td>74</td>\n",
       "    </tr>\n",
       "    <tr>\n",
       "      <th>1</th>\n",
       "      <td>female</td>\n",
       "      <td>group C</td>\n",
       "      <td>some college</td>\n",
       "      <td>standard</td>\n",
       "      <td>completed</td>\n",
       "      <td>69</td>\n",
       "      <td>90</td>\n",
       "      <td>88</td>\n",
       "    </tr>\n",
       "    <tr>\n",
       "      <th>2</th>\n",
       "      <td>female</td>\n",
       "      <td>group B</td>\n",
       "      <td>master's degree</td>\n",
       "      <td>standard</td>\n",
       "      <td>none</td>\n",
       "      <td>90</td>\n",
       "      <td>95</td>\n",
       "      <td>93</td>\n",
       "    </tr>\n",
       "    <tr>\n",
       "      <th>3</th>\n",
       "      <td>male</td>\n",
       "      <td>group A</td>\n",
       "      <td>associate's degree</td>\n",
       "      <td>free/reduced</td>\n",
       "      <td>none</td>\n",
       "      <td>47</td>\n",
       "      <td>57</td>\n",
       "      <td>44</td>\n",
       "    </tr>\n",
       "    <tr>\n",
       "      <th>4</th>\n",
       "      <td>male</td>\n",
       "      <td>group C</td>\n",
       "      <td>some college</td>\n",
       "      <td>standard</td>\n",
       "      <td>none</td>\n",
       "      <td>76</td>\n",
       "      <td>78</td>\n",
       "      <td>75</td>\n",
       "    </tr>\n",
       "  </tbody>\n",
       "</table>\n",
       "</div>"
      ],
      "text/plain": [
       "   gender race/ethnicity parental level of education         lunch  \\\n",
       "0  female        group B           bachelor's degree      standard   \n",
       "1  female        group C                some college      standard   \n",
       "2  female        group B             master's degree      standard   \n",
       "3    male        group A          associate's degree  free/reduced   \n",
       "4    male        group C                some college      standard   \n",
       "\n",
       "  test preparation course  math score  reading score  writing score  \n",
       "0                    none          72             72             74  \n",
       "1               completed          69             90             88  \n",
       "2                    none          90             95             93  \n",
       "3                    none          47             57             44  \n",
       "4                    none          76             78             75  "
      ]
     },
     "execution_count": 11,
     "metadata": {},
     "output_type": "execute_result"
    }
   ],
   "source": [
    "df.head()"
   ]
  },
  {
   "cell_type": "code",
   "execution_count": null,
   "id": "629d407f",
   "metadata": {},
   "outputs": [],
   "source": [
    "from sklearn.preprocessing import StandardScaler, OneHotEncoder\n",
    "from sklearn.compose import ColumnTransformer\n",
    "\n",
    "# Séparer les variables numériques et catégorielles\n",
    "num_features = x.select_dtypes(exclude=\"object\").columns\n",
    "cat_features = x.select_dtypes(include=\"object\").columns\n",
    "\n",
    "# Préprocesseurs\n",
    "numeric_transformer = StandardScaler()\n",
    "oh_transformer = OneHotEncoder(handle_unknown=\"ignore\")\n",
    "\n",
    "# Combinaison avec ColumnTransformer\n",
    "preprocessor = ColumnTransformer(\n",
    "    transformers=[\n",
    "        (\"OneHotEncoder\", oh_transformer, cat_features),\n",
    "        (\"StandardScaler\", numeric_transformer, num_features),\n",
    "    ]\n",
    ")\n"
   ]
  },
  {
   "cell_type": "code",
   "execution_count": null,
   "id": "719de0d2",
   "metadata": {},
   "outputs": [
    {
     "ename": "NameError",
     "evalue": "name 'StandardScaler' is not defined",
     "output_type": "error",
     "traceback": [
      "\u001b[1;31m---------------------------------------------------------------------------\u001b[0m",
      "\u001b[1;31mNameError\u001b[0m                                 Traceback (most recent call last)",
      "Cell \u001b[1;32mIn[15], line 6\u001b[0m\n\u001b[0;32m      3\u001b[0m cat_features \u001b[38;5;241m=\u001b[39m x\u001b[38;5;241m.\u001b[39mselect_dtypes(include\u001b[38;5;241m=\u001b[39m\u001b[38;5;124m\"\u001b[39m\u001b[38;5;124mobject\u001b[39m\u001b[38;5;124m\"\u001b[39m)\u001b[38;5;241m.\u001b[39mcolumns\n\u001b[0;32m      5\u001b[0m \u001b[38;5;66;03m# Préprocesseurs\u001b[39;00m\n\u001b[1;32m----> 6\u001b[0m numeric_transformer \u001b[38;5;241m=\u001b[39m \u001b[43mStandardScaler\u001b[49m()\n\u001b[0;32m      7\u001b[0m oh_transformer \u001b[38;5;241m=\u001b[39m OneHotEncoder(handle_unknown\u001b[38;5;241m=\u001b[39m\u001b[38;5;124m\"\u001b[39m\u001b[38;5;124mignore\u001b[39m\u001b[38;5;124m\"\u001b[39m)\n\u001b[0;32m      9\u001b[0m \u001b[38;5;66;03m# Combinaison avec ColumnTransformer\u001b[39;00m\n",
      "\u001b[1;31mNameError\u001b[0m: name 'StandardScaler' is not defined"
     ]
    }
   ],
   "source": []
  },
  {
   "cell_type": "code",
   "execution_count": null,
   "id": "fdce0583",
   "metadata": {},
   "outputs": [
    {
     "name": "stdout",
     "output_type": "stream",
     "text": [
      "<class 'pandas.core.frame.DataFrame'>\n",
      "RangeIndex: 1000 entries, 0 to 999\n",
      "Data columns (total 8 columns):\n",
      " #   Column                       Non-Null Count  Dtype \n",
      "---  ------                       --------------  ----- \n",
      " 0   gender                       1000 non-null   object\n",
      " 1   race/ethnicity               1000 non-null   object\n",
      " 2   parental level of education  1000 non-null   object\n",
      " 3   lunch                        1000 non-null   object\n",
      " 4   test preparation course      1000 non-null   object\n",
      " 5   math score                   1000 non-null   int64 \n",
      " 6   reading score                1000 non-null   int64 \n",
      " 7   writing score                1000 non-null   int64 \n",
      "dtypes: int64(3), object(5)\n",
      "memory usage: 62.6+ KB\n"
     ]
    }
   ],
   "source": [
    "df.info()"
   ]
  },
  {
   "cell_type": "code",
   "execution_count": null,
   "id": "6a5846c1",
   "metadata": {},
   "outputs": [],
   "source": [
    "x=preprocessor.fit_transform"
   ]
  },
  {
   "cell_type": "code",
   "execution_count": null,
   "id": "de97b092",
   "metadata": {},
   "outputs": [
    {
     "name": "stdout",
     "output_type": "stream",
     "text": [
      "Type: <class 'numpy.ndarray'>\n",
      "Shape: (1000, 19)\n"
     ]
    }
   ],
   "source": [
    "# Appliquer la transformation sur x\n",
    "x_transformed = preprocessor.fit_transform(x)\n",
    "\n",
    "print(\"Type:\", type(x_transformed))\n",
    "print(\"Shape:\", x_transformed.shape)\n"
   ]
  },
  {
   "cell_type": "code",
   "execution_count": null,
   "id": "9a7702d8",
   "metadata": {},
   "outputs": [],
   "source": [
    "import numpy as np \n",
    "import pandas as pd\n",
    "import dill\n",
    "from src.exception import CustomException\n",
    "\n",
    "\n"
   ]
  },
  {
   "cell_type": "code",
   "execution_count": null,
   "id": "44ce830b",
   "metadata": {},
   "outputs": [
    {
     "name": "stdout",
     "output_type": "stream",
     "text": [
      "categories in 'gender' variable:    ['female' 'male']\n",
      "categorie in 'race/ethnicity' variable: ['group B' 'group C' 'group A' 'group D' 'group E']\n",
      "categorie in parental level of education' variable:[\"bachelor's degree\" 'some college' \"master's degree\" \"associate's degree\"\n",
      " 'high school' 'some high school']\n",
      "categorie in'lunch' variable: ['standard' 'free/reduced']\n",
      "categories in 'test preparation course'variable:  ['none' 'completed']\n"
     ]
    }
   ],
   "source": [
    "print(\"categories in 'gender' variable:   \",end=\" \")\n",
    "print(df['gender'].unique())\n",
    "\n",
    "print(\"categorie in 'race/ethnicity' variable: \",end=\"\")\n",
    "print(df['race/ethnicity'].unique())\n",
    "\n",
    "print (\"categorie in parental level of education' variable:\",end=\"\")\n",
    "print(df['parental level of education'].unique())\n",
    "\n",
    "print(\"categorie in'lunch' variable:\",end=\" \")\n",
    "print(df['lunch'].unique())\n",
    "print(\"categories in 'test preparation course'variable:  \",end=\"\")\n",
    "print(df['test preparation course'].unique())\n"
   ]
  },
  {
   "cell_type": "code",
   "execution_count": null,
   "id": "3aafd6bc",
   "metadata": {},
   "outputs": [],
   "source": [
    "y = df['math score']"
   ]
  },
  {
   "cell_type": "code",
   "execution_count": null,
   "id": "e096e39c",
   "metadata": {},
   "outputs": [],
   "source": [
    "y = df[\"math score\"]     # variable cible\n",
    "x = df.drop(columns=[\"math score\"])   # variables explicatives\n"
   ]
  },
  {
   "cell_type": "code",
   "execution_count": null,
   "id": "a0a567b8",
   "metadata": {},
   "outputs": [
    {
     "data": {
      "text/plain": [
       "((800, 7), (200, 7))"
      ]
     },
     "execution_count": 24,
     "metadata": {},
     "output_type": "execute_result"
    }
   ],
   "source": [
    "from sklearn.model_selection import train_test_split\n",
    "\n",
    "x_train, x_test, y_train, y_test = train_test_split(\n",
    "    x, y, test_size=0.2, random_state=42\n",
    ")\n",
    "\n",
    "x_train.shape, x_test.shape\n"
   ]
  },
  {
   "cell_type": "code",
   "execution_count": null,
   "id": "8c2c878b",
   "metadata": {},
   "outputs": [],
   "source": [
    "def evaluated_model(true,predicted):\n",
    "    mae = mean_absolute_error(true,predicted)\n",
    "    mse = mean_squared_error(true,predicted)\n",
    "    rmse = np.sqrt(mean_squared_error(true,predicted))\n",
    "    r2_square = r2_score(true,predicted)\n",
    "    return mae, rmse, r2_square"
   ]
  },
  {
   "cell_type": "code",
   "execution_count": 54,
   "id": "d513e863",
   "metadata": {},
   "outputs": [
    {
     "name": "stdout",
     "output_type": "stream",
     "text": [
      "🔹 Linear Regression\n",
      "Model performance for Training set\n",
      "  MAE: 4.2677\n",
      "  RMSE: 5.3244\n",
      "  R2: 0.8743\n",
      "Model performance for Test set\n",
      "  MAE: 4.2173\n",
      "  RMSE: 5.3967\n",
      "  R2: 0.8803\n",
      "========================================\n",
      "🔹 Lasso\n",
      "Model performance for Training set\n",
      "  MAE: 5.2053\n",
      "  RMSE: 6.5925\n",
      "  R2: 0.8072\n",
      "Model performance for Test set\n",
      "  MAE: 5.1557\n",
      "  RMSE: 6.5173\n",
      "  R2: 0.8254\n",
      "========================================\n",
      "🔹 K-Neighbors Regressor\n",
      "Model performance for Training set\n",
      "  MAE: 4.5042\n",
      "  RMSE: 5.6974\n",
      "  R2: 0.8560\n",
      "Model performance for Test set\n",
      "  MAE: 5.5880\n",
      "  RMSE: 7.2172\n",
      "  R2: 0.7859\n",
      "========================================\n",
      "🔹 Decision Tree\n",
      "Model performance for Training set\n",
      "  MAE: 0.0187\n",
      "  RMSE: 0.2795\n",
      "  R2: 0.9997\n",
      "Model performance for Test set\n",
      "  MAE: 6.2250\n",
      "  RMSE: 7.7010\n",
      "  R2: 0.7563\n",
      "========================================\n",
      "🔹 Random Forest\n",
      "Model performance for Training set\n",
      "  MAE: 1.8174\n",
      "  RMSE: 2.2947\n",
      "  R2: 0.9766\n",
      "Model performance for Test set\n",
      "  MAE: 4.5990\n",
      "  RMSE: 5.9774\n",
      "  R2: 0.8532\n",
      "========================================\n",
      "🔹 XGB Regressor\n",
      "Model performance for Training set\n",
      "  MAE: 0.6875\n",
      "  RMSE: 1.0073\n",
      "  R2: 0.9955\n",
      "Model performance for Test set\n",
      "  MAE: 5.0577\n",
      "  RMSE: 6.4733\n",
      "  R2: 0.8278\n",
      "========================================\n",
      "🔹 CatBoost Regressor\n",
      "Model performance for Training set\n",
      "  MAE: 2.4054\n",
      "  RMSE: 3.0427\n",
      "  R2: 0.9589\n",
      "Model performance for Test set\n",
      "  MAE: 4.6088\n",
      "  RMSE: 6.0046\n",
      "  R2: 0.8518\n",
      "========================================\n",
      "🔹 AdaBoost Regressor\n",
      "Model performance for Training set\n",
      "  MAE: 4.7666\n",
      "  RMSE: 5.8531\n",
      "  R2: 0.8480\n",
      "Model performance for Test set\n",
      "  MAE: 4.7167\n",
      "  RMSE: 6.0619\n",
      "  R2: 0.8490\n",
      "========================================\n"
     ]
    }
   ],
   "source": [
    "from sklearn.pipeline import Pipeline\n",
    "\n",
    "# Dictionnaire de modèles\n",
    "models = {\n",
    "    \"Linear Regression\": LinearRegression(),\n",
    "    \"Lasso\": Lasso(),\n",
    "    \"K-Neighbors Regressor\": KNeighborsRegressor(),\n",
    "    \"Decision Tree\": DecisionTreeRegressor(),\n",
    "    \"Random Forest\": RandomForestRegressor(),\n",
    "    \"XGB Regressor\": XGBRegressor(),\n",
    "    # CatBoost si installé\n",
    "     \"CatBoost Regressor\": CatBoostRegressor(verbose=False),\n",
    "    \"AdaBoost Regressor\": AdaBoostRegressor()\n",
    "}\n",
    "\n",
    "model_list = []\n",
    "r2_list = []\n",
    "\n",
    "# Boucle sur les modèles\n",
    "for name, regressor in models.items():\n",
    "    # Création d'un pipeline : préprocesseur + modèle\n",
    "    pipeline = Pipeline(steps=[\n",
    "        (\"preprocessor\", preprocessor),  # gère OneHotEncoder et StandardScaler\n",
    "        (\"regressor\", regressor)\n",
    "    ])\n",
    "\n",
    "    # Entraînement\n",
    "    pipeline.fit(x_train, y_train)\n",
    "\n",
    "    # Prédictions\n",
    "    y_train_pred = pipeline.predict(x_train)\n",
    "    y_test_pred = pipeline.predict(x_test)\n",
    "\n",
    "    # Évaluations\n",
    "    model_train_mae, model_train_rmse, model_train_r2 = evaluated_model(y_train, y_train_pred)\n",
    "    model_test_mae, model_test_rmse, model_test_r2 = evaluated_model(y_test, y_test_pred)\n",
    "\n",
    "    # Affichage\n",
    "    print(f\"🔹 {name}\")\n",
    "    print(\"Model performance for Training set\")\n",
    "    print(f\"  MAE: {model_train_mae:.4f}\")\n",
    "    print(f\"  RMSE: {model_train_rmse:.4f}\")\n",
    "    print(f\"  R2: {model_train_r2:.4f}\")\n",
    "    print(\"Model performance for Test set\")\n",
    "    print(f\"  MAE: {model_test_mae:.4f}\")\n",
    "    print(f\"  RMSE: {model_test_rmse:.4f}\")\n",
    "    print(f\"  R2: {model_test_r2:.4f}\")\n",
    "    print(\"=\"*40)\n",
    "\n",
    "    model_list.append(name)\n",
    "    r2_list.append(model_test_r2)\n"
   ]
  },
  {
   "cell_type": "code",
   "execution_count": 60,
   "id": "cff6b232",
   "metadata": {},
   "outputs": [
    {
     "name": "stdout",
     "output_type": "stream",
     "text": [
      "              Model Name  R2_score\n",
      "0      Linear Regression  0.880315\n",
      "1          Random Forest  0.853171\n",
      "2     CatBoost Regressor  0.851831\n",
      "3     AdaBoost Regressor  0.848991\n",
      "4          XGB Regressor  0.827797\n",
      "5                  Lasso  0.825446\n",
      "6  K-Neighbors Regressor  0.785944\n",
      "7          Decision Tree  0.756286\n"
     ]
    }
   ],
   "source": [
    "# Création du DataFrame et tri par R2_score\n",
    "results = (\n",
    "    pd.DataFrame(list(zip(model_list, r2_list)), columns=['Model Name', 'R2_score'])\n",
    "    .sort_values(by=\"R2_score\", ascending=False)  # <= guillemets obligatoires\n",
    "    .reset_index(drop=True)\n",
    ")\n",
    "\n",
    "print(results)\n"
   ]
  },
  {
   "cell_type": "code",
   "execution_count": null,
   "id": "a55e1d4a",
   "metadata": {},
   "outputs": [
    {
     "name": "stdout",
     "output_type": "stream",
     "text": [
      "Requirement already satisfied: xgboost in c:\\users\\hp\\desktop\\mlproject\\venv\\lib\\site-packages (2.1.4)Note: you may need to restart the kernel to use updated packages.\n",
      "\n",
      "Requirement already satisfied: numpy in c:\\users\\hp\\desktop\\mlproject\\venv\\lib\\site-packages (from xgboost) (1.24.4)\n",
      "Requirement already satisfied: scipy in c:\\users\\hp\\desktop\\mlproject\\venv\\lib\\site-packages (from xgboost) (1.10.1)\n"
     ]
    }
   ],
   "source": [
    "pip install xgboost\n"
   ]
  },
  {
   "cell_type": "code",
   "execution_count": 64,
   "id": "7a4b25af",
   "metadata": {},
   "outputs": [
    {
     "name": "stdout",
     "output_type": "stream",
     "text": [
      "Accuracy of the model is 88.04\n"
     ]
    }
   ],
   "source": [
    "import pandas as pd\n",
    "from sklearn.linear_model import LinearRegression\n",
    "from sklearn.metrics import r2_score\n",
    "\n",
    "# Encodage des variables catégorielles\n",
    "x_train_encoded = pd.get_dummies(x_train, drop_first=True)\n",
    "x_test_encoded  = pd.get_dummies(x_test, drop_first=True)\n",
    "\n",
    "# Alignement des colonnes (au cas où certaines catégories n'existent pas dans test ou train)\n",
    "x_test_encoded = x_test_encoded.reindex(columns=x_train_encoded.columns, fill_value=0)\n",
    "\n",
    "# Modèle\n",
    "lin_model = LinearRegression(fit_intercept=True)\n",
    "lin_model = lin_model.fit(x_train_encoded, y_train)\n",
    "\n",
    "# Prédictions\n",
    "y_pred = lin_model.predict(x_test_encoded)\n",
    "\n",
    "# Score\n",
    "score = r2_score(y_test, y_pred) * 100\n",
    "print(\"Accuracy of the model is %.2f\" % score)\n"
   ]
  },
  {
   "cell_type": "code",
   "execution_count": 65,
   "id": "b33841b8",
   "metadata": {},
   "outputs": [
    {
     "data": {
      "image/png": "[encoded data removed]",
      "text/plain": [
       "<Figure size 640x480 with 1 Axes>"
      ]
     },
     "metadata": {},
     "output_type": "display_data"
    }
   ],
   "source": [
    "plt.scatter(y_test,y_pred);\n",
    "plt.xlabel('actual');\n",
    "plt.ylabel('predicted');"
   ]
  },
  {
   "cell_type": "code",
   "execution_count": 66,
   "id": "c8247419",
   "metadata": {},
   "outputs": [
    {
     "data": {
      "image/png": "[encoded data removed]",
      "text/plain": [
       "<Figure size 640x480 with 1 Axes>"
      ]
     },
     "metadata": {},
     "output_type": "display_data"
    }
   ],
   "source": [
    "sns.regplot(x=y_test,y=y_pred,ci=None,color='red');"
   ]
  },
  {
   "cell_type": "code",
   "execution_count": 67,
   "id": "1030a15b",
   "metadata": {},
   "outputs": [
    {
     "data": {
      "text/html": [
       "<div>\n",
       "<style scoped>\n",
       "    .dataframe tbody tr th:only-of-type {\n",
       "        vertical-align: middle;\n",
       "    }\n",
       "\n",
       "    .dataframe tbody tr th {\n",
       "        vertical-align: top;\n",
       "    }\n",
       "\n",
       "    .dataframe thead th {\n",
       "        text-align: right;\n",
       "    }\n",
       "</style>\n",
       "<table border=\"1\" class=\"dataframe\">\n",
       "  <thead>\n",
       "    <tr style=\"text-align: right;\">\n",
       "      <th></th>\n",
       "      <th>Actual value</th>\n",
       "      <th>Predicted value</th>\n",
       "      <th>Difference</th>\n",
       "    </tr>\n",
       "  </thead>\n",
       "  <tbody>\n",
       "    <tr>\n",
       "      <th>521</th>\n",
       "      <td>91</td>\n",
       "      <td>76.387970</td>\n",
       "      <td>14.612030</td>\n",
       "    </tr>\n",
       "    <tr>\n",
       "      <th>737</th>\n",
       "      <td>53</td>\n",
       "      <td>58.885970</td>\n",
       "      <td>-5.885970</td>\n",
       "    </tr>\n",
       "    <tr>\n",
       "      <th>740</th>\n",
       "      <td>80</td>\n",
       "      <td>76.990265</td>\n",
       "      <td>3.009735</td>\n",
       "    </tr>\n",
       "    <tr>\n",
       "      <th>660</th>\n",
       "      <td>74</td>\n",
       "      <td>76.851804</td>\n",
       "      <td>-2.851804</td>\n",
       "    </tr>\n",
       "    <tr>\n",
       "      <th>411</th>\n",
       "      <td>84</td>\n",
       "      <td>87.627378</td>\n",
       "      <td>-3.627378</td>\n",
       "    </tr>\n",
       "    <tr>\n",
       "      <th>...</th>\n",
       "      <td>...</td>\n",
       "      <td>...</td>\n",
       "      <td>...</td>\n",
       "    </tr>\n",
       "    <tr>\n",
       "      <th>408</th>\n",
       "      <td>52</td>\n",
       "      <td>43.409149</td>\n",
       "      <td>8.590851</td>\n",
       "    </tr>\n",
       "    <tr>\n",
       "      <th>332</th>\n",
       "      <td>62</td>\n",
       "      <td>62.152214</td>\n",
       "      <td>-0.152214</td>\n",
       "    </tr>\n",
       "    <tr>\n",
       "      <th>208</th>\n",
       "      <td>74</td>\n",
       "      <td>67.888395</td>\n",
       "      <td>6.111605</td>\n",
       "    </tr>\n",
       "    <tr>\n",
       "      <th>613</th>\n",
       "      <td>65</td>\n",
       "      <td>67.022287</td>\n",
       "      <td>-2.022287</td>\n",
       "    </tr>\n",
       "    <tr>\n",
       "      <th>78</th>\n",
       "      <td>61</td>\n",
       "      <td>62.345132</td>\n",
       "      <td>-1.345132</td>\n",
       "    </tr>\n",
       "  </tbody>\n",
       "</table>\n",
       "<p>200 rows × 3 columns</p>\n",
       "</div>"
      ],
      "text/plain": [
       "     Actual value  Predicted value  Difference\n",
       "521            91        76.387970   14.612030\n",
       "737            53        58.885970   -5.885970\n",
       "740            80        76.990265    3.009735\n",
       "660            74        76.851804   -2.851804\n",
       "411            84        87.627378   -3.627378\n",
       "..            ...              ...         ...\n",
       "408            52        43.409149    8.590851\n",
       "332            62        62.152214   -0.152214\n",
       "208            74        67.888395    6.111605\n",
       "613            65        67.022287   -2.022287\n",
       "78             61        62.345132   -1.345132\n",
       "\n",
       "[200 rows x 3 columns]"
      ]
     },
     "execution_count": 67,
     "metadata": {},
     "output_type": "execute_result"
    }
   ],
   "source": [
    "pred_df = pd.DataFrame({\n",
    "    'Actual value': y_test,\n",
    "    'Predicted value': y_pred,\n",
    "    'Difference': y_test - y_pred\n",
    "})\n",
    "pred_df\n"
   ]
  },
  {
   "cell_type": "code",
   "execution_count": 63,
   "id": "883b8ba7",
   "metadata": {},
   "outputs": [
    {
     "name": "stdout",
     "output_type": "stream",
     "text": [
      "gender                         object\n",
      "race/ethnicity                 object\n",
      "parental level of education    object\n",
      "lunch                          object\n",
      "test preparation course        object\n",
      "reading score                   int64\n",
      "writing score                   int64\n",
      "dtype: object\n",
      "int64\n",
      "gender                         0\n",
      "race/ethnicity                 0\n",
      "parental level of education    0\n",
      "lunch                          0\n",
      "test preparation course        0\n",
      "reading score                  0\n",
      "writing score                  0\n",
      "dtype: int64\n",
      "0\n"
     ]
    }
   ],
   "source": [
    "print(x_train.dtypes)   # Vérifie si toutes les colonnes sont numériques\n",
    "print(y_train.dtypes)   # Vérifie la cible\n",
    "print(x_train.isnull().sum())  # Vérifie s'il y a des NaN\n",
    "print(y_train.isnull().sum())\n"
   ]
  }
 ],
 "metadata": {
  "kernelspec": {
   "display_name": "Python 3",
   "language": "python",
   "name": "python3"
  },
  "language_info": {
   "codemirror_mode": {
    "name": "ipython",
    "version": 3
   },
   "file_extension": ".py",
   "mimetype": "text/x-python",
   "name": "python",
   "nbconvert_exporter": "python",
   "pygments_lexer": "ipython3",
   "version": "3.8.20"
  }
 },
 "nbformat": 4,
 "nbformat_minor": 5
}
